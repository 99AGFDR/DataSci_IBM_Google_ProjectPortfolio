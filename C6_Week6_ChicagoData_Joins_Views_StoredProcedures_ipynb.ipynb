{
 "cells": [
  {
   "attachments": {},
   "cell_type": "markdown",
   "metadata": {},
   "source": [
    "# Final Project: Advanced SQL Techniques"
   ]
  },
  {
   "cell_type": "markdown",
   "metadata": {},
   "source": [
    "# Objectives"
   ]
  },
  {
   "attachments": {},
   "cell_type": "markdown",
   "metadata": {},
   "source": [
    "After completing this lab, you will be able to:\n",
    "\n",
    "- Use joins to query data from multiple tables\n",
    "\n",
    "- Create and query views\n",
    "\n",
    "- Write and run stored procedures\n",
    "\n",
    "- Use transactions"
   ]
  },
  {
   "cell_type": "code",
   "execution_count": 1,
   "metadata": {},
   "outputs": [],
   "source": [
    "%load_ext sql"
   ]
  },
  {
   "cell_type": "code",
   "execution_count": 2,
   "metadata": {},
   "outputs": [],
   "source": [
    "%sql ibm_db_sa://jdq93423:amEOLV8fXxRqntXF@ea286ace-86c7-4d5b-8580-3fbfa46b1c66.bs2io90l08kqb1od8lcg.databases.appdomain.cloud:31505/BLUDB?security=SSL"
   ]
  },
  {
   "cell_type": "markdown",
   "metadata": {},
   "source": [
    "# Exercise 1: Using Joins"
   ]
  },
  {
   "cell_type": "markdown",
   "metadata": {},
   "source": [
    "Question 1\n",
    "Write and execute a SQL query to list the school names, community names and average attendance for communities with a hardship index of 98."
   ]
  },
  {
   "cell_type": "code",
   "execution_count": 4,
   "metadata": {},
   "outputs": [
    {
     "name": "stdout",
     "output_type": "stream",
     "text": [
      " * ibm_db_sa://jdq93423:***@ea286ace-86c7-4d5b-8580-3fbfa46b1c66.bs2io90l08kqb1od8lcg.databases.appdomain.cloud:31505/BLUDB\n",
      "Done.\n"
     ]
    },
    {
     "data": {
      "text/html": [
       "<table>\n",
       "    <tr>\n",
       "        <th>name_of_school</th>\n",
       "        <th>average_student_attendance</th>\n",
       "        <th>community_area_name</th>\n",
       "    </tr>\n",
       "    <tr>\n",
       "        <td>George Washington Carver Military Academy High School</td>\n",
       "        <td>91.60%</td>\n",
       "        <td>Riverdale</td>\n",
       "    </tr>\n",
       "    <tr>\n",
       "        <td>George Washington Carver Primary School</td>\n",
       "        <td>90.90%</td>\n",
       "        <td>Riverdale</td>\n",
       "    </tr>\n",
       "    <tr>\n",
       "        <td>Ira F Aldridge Elementary School</td>\n",
       "        <td>92.90%</td>\n",
       "        <td>Riverdale</td>\n",
       "    </tr>\n",
       "    <tr>\n",
       "        <td>William E B Dubois Elementary School</td>\n",
       "        <td>93.30%</td>\n",
       "        <td>Riverdale</td>\n",
       "    </tr>\n",
       "</table>"
      ],
      "text/plain": [
       "[('George Washington Carver Military Academy High School', '91.60%', 'Riverdale'),\n",
       " ('George Washington Carver Primary School', '90.90%', 'Riverdale'),\n",
       " ('Ira F Aldridge Elementary School', '92.90%', 'Riverdale'),\n",
       " ('William E B Dubois Elementary School', '93.30%', 'Riverdale')]"
      ]
     },
     "execution_count": 4,
     "metadata": {},
     "output_type": "execute_result"
    }
   ],
   "source": [
    "%%sql\n",
    "\n",
    "SELECT S.NAME_OF_SCHOOL, S.AVERAGE_STUDENT_ATTENDANCE, C.COMMUNITY_AREA_NAME\n",
    "FROM CHICAGO_PUBLIC_SCHOOLS AS S\n",
    "LEFT OUTER JOIN CHICAGO_CENSUS_DATA AS C ON S.COMMUNITY_AREA_NUMBER = C.COMMUNITY_AREA_NUMBER\n",
    "WHERE C.HARDSHIP_INDEX = 98;"
   ]
  },
  {
   "cell_type": "markdown",
   "metadata": {},
   "source": [
    "Question 2\n",
    "Write and execute a SQL query to list all crimes that took place at a school. Include case number, crime type and community name."
   ]
  },
  {
   "cell_type": "code",
   "execution_count": 53,
   "metadata": {},
   "outputs": [
    {
     "name": "stdout",
     "output_type": "stream",
     "text": [
      " * ibm_db_sa://jdq93423:***@ea286ace-86c7-4d5b-8580-3fbfa46b1c66.bs2io90l08kqb1od8lcg.databases.appdomain.cloud:31505/BLUDB\n",
      "Done.\n"
     ]
    },
    {
     "data": {
      "text/html": [
       "<table>\n",
       "    <tr>\n",
       "        <th>case_number</th>\n",
       "        <th>primary_type</th>\n",
       "        <th>community_area_name</th>\n",
       "    </tr>\n",
       "    <tr>\n",
       "        <td>HK577020</td>\n",
       "        <td>NARCOTICS</td>\n",
       "        <td>Rogers Park</td>\n",
       "    </tr>\n",
       "    <tr>\n",
       "        <td>HL725506</td>\n",
       "        <td>BATTERY</td>\n",
       "        <td>Lincoln Square</td>\n",
       "    </tr>\n",
       "    <tr>\n",
       "        <td>HH639427</td>\n",
       "        <td>BATTERY</td>\n",
       "        <td>Austin</td>\n",
       "    </tr>\n",
       "    <tr>\n",
       "        <td>HS200939</td>\n",
       "        <td>CRIMINAL DAMAGE</td>\n",
       "        <td>Austin</td>\n",
       "    </tr>\n",
       "    <tr>\n",
       "        <td>HT315369</td>\n",
       "        <td>ASSAULT</td>\n",
       "        <td>East Garfield Park</td>\n",
       "    </tr>\n",
       "    <tr>\n",
       "        <td>HP716225</td>\n",
       "        <td>BATTERY</td>\n",
       "        <td>Douglas</td>\n",
       "    </tr>\n",
       "    <tr>\n",
       "        <td>HL353697</td>\n",
       "        <td>BATTERY</td>\n",
       "        <td>South Shore</td>\n",
       "    </tr>\n",
       "    <tr>\n",
       "        <td>HS305355</td>\n",
       "        <td>NARCOTICS</td>\n",
       "        <td>Brighton Park</td>\n",
       "    </tr>\n",
       "    <tr>\n",
       "        <td>JA460432</td>\n",
       "        <td>BATTERY</td>\n",
       "        <td>Ashburn</td>\n",
       "    </tr>\n",
       "    <tr>\n",
       "        <td>HR585012</td>\n",
       "        <td>CRIMINAL TRESPA</td>\n",
       "        <td>Ashburn</td>\n",
       "    </tr>\n",
       "    <tr>\n",
       "        <td>HH292682</td>\n",
       "        <td>PUBLIC PEACE VI</td>\n",
       "        <td>None</td>\n",
       "    </tr>\n",
       "    <tr>\n",
       "        <td>G635735</td>\n",
       "        <td>PUBLIC PEACE VI</td>\n",
       "        <td>None</td>\n",
       "    </tr>\n",
       "</table>"
      ],
      "text/plain": [
       "[('HK577020', 'NARCOTICS', 'Rogers Park'),\n",
       " ('HL725506', 'BATTERY', 'Lincoln Square'),\n",
       " ('HH639427', 'BATTERY', 'Austin'),\n",
       " ('HS200939', 'CRIMINAL DAMAGE', 'Austin'),\n",
       " ('HT315369', 'ASSAULT', 'East Garfield Park'),\n",
       " ('HP716225', 'BATTERY', 'Douglas'),\n",
       " ('HL353697', 'BATTERY', 'South Shore'),\n",
       " ('HS305355', 'NARCOTICS', 'Brighton Park'),\n",
       " ('JA460432', 'BATTERY', 'Ashburn'),\n",
       " ('HR585012', 'CRIMINAL TRESPA', 'Ashburn'),\n",
       " ('HH292682', 'PUBLIC PEACE VI', None),\n",
       " ('G635735', 'PUBLIC PEACE VI', None)]"
      ]
     },
     "execution_count": 53,
     "metadata": {},
     "output_type": "execute_result"
    }
   ],
   "source": [
    "%%sql\n",
    "\n",
    "SELECT CR.CASE_NUMBER, CR.PRIMARY_TYPE, C.COMMUNITY_AREA_NAME\n",
    "FROM CHICAGO_CRIME_DATA AS CR\n",
    "LEFT OUTER JOIN CHICAGO_CENSUS_DATA AS C ON CR.COMMUNITY_AREA_NUMBER = C.COMMUNITY_AREA_NUMBER\n",
    "WHERE LOCATION_DESCRIPTION LIKE '%SCHOOL%';"
   ]
  },
  {
   "cell_type": "markdown",
   "metadata": {},
   "source": [
    "# Exercise 2: Creating a View"
   ]
  },
  {
   "cell_type": "markdown",
   "metadata": {},
   "source": [
    "Question 1\n",
    "Write and execute a SQL statement to create a view showing the columns listed in the following table, with new column names as shown in the second column."
   ]
  },
  {
   "attachments": {
    "image.png": {
     "image/png": "[encoded data removed]"
    }
   },
   "cell_type": "markdown",
   "metadata": {},
   "source": [
    "![image.png](attachment:image.png)\n",
    "\n"
   ]
  },
  {
   "cell_type": "markdown",
   "metadata": {},
   "source": [
    "Write and execute a SQL statement that returns all of the columns from the view.\n",
    "\n",
    "Write and execute a SQL statement that returns just the school name and leaders rating from the view."
   ]
  },
  {
   "cell_type": "code",
   "execution_count": 54,
   "metadata": {},
   "outputs": [
    {
     "name": "stdout",
     "output_type": "stream",
     "text": [
      " * ibm_db_sa://jdq93423:***@ea286ace-86c7-4d5b-8580-3fbfa46b1c66.bs2io90l08kqb1od8lcg.databases.appdomain.cloud:31505/BLUDB\n",
      "(ibm_db_dbi.ProgrammingError) ibm_db_dbi::ProgrammingError: Statement Execute Failed: [IBM][CLI Driver][DB2/LINUXX8664] SQL0601N  The name of the object to be created is identical to the existing name \"JDQ93423.NEW_CHICAGO_SCHOOL_VIEW\" of type \"VIEW\".  SQLSTATE=42710  SQLCODE=-601\n",
      "[SQL: CREATE VIEW NEW_CHICAGO_SCHOOL_VIEW (School_Name, Safety_Rating, Family_Rating, Environment_Rating, Instruction_Rating, Leaders_Rating, Teachers_Rating) AS \n",
      "SELECT NAME_OF_SCHOOL, Safety_Icon, Family_Involvement_Icon, Environment_Icon, Instruction_Icon, Leaders_Icon, Teachers_Icon\n",
      "FROM CHICAGO_PUBLIC_SCHOOLS;]\n",
      "(Background on this error at: http://sqlalche.me/e/13/f405)\n"
     ]
    }
   ],
   "source": [
    "%%sql\n",
    "\n",
    "CREATE VIEW NEW_CHICAGO_SCHOOL_VIEW (School_Name, Safety_Rating, Family_Rating, Environment_Rating, Instruction_Rating, Leaders_Rating, Teachers_Rating) AS \n",
    "SELECT NAME_OF_SCHOOL, Safety_Icon, Family_Involvement_Icon, Environment_Icon, Instruction_Icon, Leaders_Icon, Teachers_Icon\n",
    "FROM CHICAGO_PUBLIC_SCHOOLS;"
   ]
  },
  {
   "cell_type": "code",
   "execution_count": 52,
   "metadata": {},
   "outputs": [
    {
     "name": "stdout",
     "output_type": "stream",
     "text": [
      " * ibm_db_sa://jdq93423:***@ea286ace-86c7-4d5b-8580-3fbfa46b1c66.bs2io90l08kqb1od8lcg.databases.appdomain.cloud:31505/BLUDB\n",
      "Done.\n"
     ]
    },
    {
     "data": {
      "text/html": [
       "<table>\n",
       "    <tr>\n",
       "        <th>school_name</th>\n",
       "        <th>safety_rating</th>\n",
       "        <th>family_rating</th>\n",
       "        <th>environment_rating</th>\n",
       "        <th>instruction_rating</th>\n",
       "        <th>leaders_rating</th>\n",
       "        <th>teachers_rating</th>\n",
       "    </tr>\n",
       "    <tr>\n",
       "        <td>Abraham Lincoln Elementary School</td>\n",
       "        <td>Very Strong</td>\n",
       "        <td>Very Strong</td>\n",
       "        <td>Strong</td>\n",
       "        <td>Strong</td>\n",
       "        <td>Weak</td>\n",
       "        <td>Strong</td>\n",
       "    </tr>\n",
       "    <tr>\n",
       "        <td>Adam Clayton Powell Paideia Community Academy Elementary School</td>\n",
       "        <td>Average</td>\n",
       "        <td>Strong</td>\n",
       "        <td>Strong</td>\n",
       "        <td>Very Strong</td>\n",
       "        <td>Weak</td>\n",
       "        <td>Strong</td>\n",
       "    </tr>\n",
       "    <tr>\n",
       "        <td>Adlai E Stevenson Elementary School</td>\n",
       "        <td>Strong</td>\n",
       "        <td>NDA</td>\n",
       "        <td>Average</td>\n",
       "        <td>Weak</td>\n",
       "        <td>Weak</td>\n",
       "        <td>NDA</td>\n",
       "    </tr>\n",
       "    <tr>\n",
       "        <td>Agustin Lara Elementary Academy</td>\n",
       "        <td>Average</td>\n",
       "        <td>Average</td>\n",
       "        <td>Average</td>\n",
       "        <td>Weak</td>\n",
       "        <td>Weak</td>\n",
       "        <td>Average</td>\n",
       "    </tr>\n",
       "    <tr>\n",
       "        <td>Air Force Academy High School</td>\n",
       "        <td>Average</td>\n",
       "        <td>Strong</td>\n",
       "        <td>Strong</td>\n",
       "        <td>Average</td>\n",
       "        <td>Weak</td>\n",
       "        <td>Average</td>\n",
       "    </tr>\n",
       "    <tr>\n",
       "        <td>Albany Park Multicultural Academy</td>\n",
       "        <td>Strong</td>\n",
       "        <td>Weak</td>\n",
       "        <td>Strong</td>\n",
       "        <td>Strong</td>\n",
       "        <td>Weak</td>\n",
       "        <td>Average</td>\n",
       "    </tr>\n",
       "    <tr>\n",
       "        <td>Albert G Lane Technical High School</td>\n",
       "        <td>Very Strong</td>\n",
       "        <td>NDA</td>\n",
       "        <td>Strong</td>\n",
       "        <td>Average</td>\n",
       "        <td>Weak</td>\n",
       "        <td>NDA</td>\n",
       "    </tr>\n",
       "    <tr>\n",
       "        <td>Albert R Sabin Elementary Magnet School</td>\n",
       "        <td>Strong</td>\n",
       "        <td>NDA</td>\n",
       "        <td>Weak</td>\n",
       "        <td>Very Weak</td>\n",
       "        <td>Weak</td>\n",
       "        <td>NDA</td>\n",
       "    </tr>\n",
       "    <tr>\n",
       "        <td>Alcott High School for the Humanities</td>\n",
       "        <td>Strong</td>\n",
       "        <td>NDA</td>\n",
       "        <td>Strong</td>\n",
       "        <td>Average</td>\n",
       "        <td>Weak</td>\n",
       "        <td>NDA</td>\n",
       "    </tr>\n",
       "    <tr>\n",
       "        <td>Alessandro Volta Elementary School</td>\n",
       "        <td>Average</td>\n",
       "        <td>Strong</td>\n",
       "        <td>Weak</td>\n",
       "        <td>Weak</td>\n",
       "        <td>Weak</td>\n",
       "        <td>Average</td>\n",
       "    </tr>\n",
       "</table>"
      ],
      "text/plain": [
       "[('Abraham Lincoln Elementary School', 'Very Strong', 'Very Strong', 'Strong', 'Strong', 'Weak', 'Strong'),\n",
       " ('Adam Clayton Powell Paideia Community Academy Elementary School', 'Average', 'Strong', 'Strong', 'Very Strong', 'Weak', 'Strong'),\n",
       " ('Adlai E Stevenson Elementary School', 'Strong', 'NDA', 'Average', 'Weak', 'Weak', 'NDA'),\n",
       " ('Agustin Lara Elementary Academy', 'Average', 'Average', 'Average', 'Weak', 'Weak', 'Average'),\n",
       " ('Air Force Academy High School', 'Average', 'Strong', 'Strong', 'Average', 'Weak', 'Average'),\n",
       " ('Albany Park Multicultural Academy', 'Strong', 'Weak', 'Strong', 'Strong', 'Weak', 'Average'),\n",
       " ('Albert G Lane Technical High School', 'Very Strong', 'NDA', 'Strong', 'Average', 'Weak', 'NDA'),\n",
       " ('Albert R Sabin Elementary Magnet School', 'Strong', 'NDA', 'Weak', 'Very Weak', 'Weak', 'NDA'),\n",
       " ('Alcott High School for the Humanities', 'Strong', 'NDA', 'Strong', 'Average', 'Weak', 'NDA'),\n",
       " ('Alessandro Volta Elementary School', 'Average', 'Strong', 'Weak', 'Weak', 'Weak', 'Average')]"
      ]
     },
     "execution_count": 52,
     "metadata": {},
     "output_type": "execute_result"
    }
   ],
   "source": [
    "%%sql\n",
    "\n",
    "SELECT *\n",
    "FROM NEW_CHICAGO_SCHOOL_VIEW\n",
    "LIMIT 10"
   ]
  },
  {
   "cell_type": "code",
   "execution_count": 56,
   "metadata": {},
   "outputs": [
    {
     "name": "stdout",
     "output_type": "stream",
     "text": [
      " * ibm_db_sa://jdq93423:***@ea286ace-86c7-4d5b-8580-3fbfa46b1c66.bs2io90l08kqb1od8lcg.databases.appdomain.cloud:31505/BLUDB\n",
      "Done.\n"
     ]
    },
    {
     "data": {
      "text/html": [
       "<table>\n",
       "    <tr>\n",
       "        <th>school_name</th>\n",
       "        <th>leaders_rating</th>\n",
       "    </tr>\n",
       "    <tr>\n",
       "        <td>Abraham Lincoln Elementary School</td>\n",
       "        <td>Weak</td>\n",
       "    </tr>\n",
       "    <tr>\n",
       "        <td>Adam Clayton Powell Paideia Community Academy Elementary School</td>\n",
       "        <td>Weak</td>\n",
       "    </tr>\n",
       "    <tr>\n",
       "        <td>Adlai E Stevenson Elementary School</td>\n",
       "        <td>Weak</td>\n",
       "    </tr>\n",
       "    <tr>\n",
       "        <td>Agustin Lara Elementary Academy</td>\n",
       "        <td>Weak</td>\n",
       "    </tr>\n",
       "    <tr>\n",
       "        <td>Air Force Academy High School</td>\n",
       "        <td>Weak</td>\n",
       "    </tr>\n",
       "    <tr>\n",
       "        <td>Albany Park Multicultural Academy</td>\n",
       "        <td>Weak</td>\n",
       "    </tr>\n",
       "    <tr>\n",
       "        <td>Albert G Lane Technical High School</td>\n",
       "        <td>Weak</td>\n",
       "    </tr>\n",
       "    <tr>\n",
       "        <td>Albert R Sabin Elementary Magnet School</td>\n",
       "        <td>Weak</td>\n",
       "    </tr>\n",
       "    <tr>\n",
       "        <td>Alcott High School for the Humanities</td>\n",
       "        <td>Weak</td>\n",
       "    </tr>\n",
       "    <tr>\n",
       "        <td>Alessandro Volta Elementary School</td>\n",
       "        <td>Weak</td>\n",
       "    </tr>\n",
       "    <tr>\n",
       "        <td>Alexander Graham Bell Elementary School</td>\n",
       "        <td>Weak</td>\n",
       "    </tr>\n",
       "    <tr>\n",
       "        <td>Alexander Graham Elementary School</td>\n",
       "        <td>Weak</td>\n",
       "    </tr>\n",
       "    <tr>\n",
       "        <td>Alexander Hamilton Elementary School</td>\n",
       "        <td>Weak</td>\n",
       "    </tr>\n",
       "    <tr>\n",
       "        <td>Alexander von Humboldt Elementary School</td>\n",
       "        <td>Weak</td>\n",
       "    </tr>\n",
       "    <tr>\n",
       "        <td>Alex Haley Elementary Academy</td>\n",
       "        <td>Weak</td>\n",
       "    </tr>\n",
       "    <tr>\n",
       "        <td>Alfred David Kohn Elementary School</td>\n",
       "        <td>Weak</td>\n",
       "    </tr>\n",
       "    <tr>\n",
       "        <td>Alfred Nobel Elementary School</td>\n",
       "        <td>Weak</td>\n",
       "    </tr>\n",
       "    <tr>\n",
       "        <td>Alice L Barnard Computer Math &amp; Science Center Elementary School</td>\n",
       "        <td>Weak</td>\n",
       "    </tr>\n",
       "    <tr>\n",
       "        <td>Al Raby High School</td>\n",
       "        <td>Weak</td>\n",
       "    </tr>\n",
       "    <tr>\n",
       "        <td>Ambrose Plamondon Elementary School</td>\n",
       "        <td>Weak</td>\n",
       "    </tr>\n",
       "    <tr>\n",
       "        <td>Amelia Earhart Options for Knowledge Elementary School</td>\n",
       "        <td>Weak</td>\n",
       "    </tr>\n",
       "    <tr>\n",
       "        <td>Ames Middle School</td>\n",
       "        <td>Weak</td>\n",
       "    </tr>\n",
       "    <tr>\n",
       "        <td>Amos Alonzo Stagg Elementary School</td>\n",
       "        <td>Weak</td>\n",
       "    </tr>\n",
       "    <tr>\n",
       "        <td>Ana Roque de Duprey Elementary School</td>\n",
       "        <td>Weak</td>\n",
       "    </tr>\n",
       "    <tr>\n",
       "        <td>Andrew Carnegie Elementary School</td>\n",
       "        <td>Weak</td>\n",
       "    </tr>\n",
       "    <tr>\n",
       "        <td>Andrew Jackson Elementary Language Academy</td>\n",
       "        <td>Weak</td>\n",
       "    </tr>\n",
       "    <tr>\n",
       "        <td>Anna R. Langford Community Academy</td>\n",
       "        <td>Weak</td>\n",
       "    </tr>\n",
       "    <tr>\n",
       "        <td>Annie Keller Elementary Gifted Magnet School</td>\n",
       "        <td>Weak</td>\n",
       "    </tr>\n",
       "    <tr>\n",
       "        <td>A.N. Pritzker School</td>\n",
       "        <td>Weak</td>\n",
       "    </tr>\n",
       "    <tr>\n",
       "        <td>Anthony Overton Elementary School</td>\n",
       "        <td>Weak</td>\n",
       "    </tr>\n",
       "    <tr>\n",
       "        <td>Ariel Elementary Community Academy</td>\n",
       "        <td>Weak</td>\n",
       "    </tr>\n",
       "    <tr>\n",
       "        <td>Arna Wendell Bontemps Elementary School</td>\n",
       "        <td>Weak</td>\n",
       "    </tr>\n",
       "    <tr>\n",
       "        <td>Arnold Mireles Elementary Academy</td>\n",
       "        <td>Weak</td>\n",
       "    </tr>\n",
       "    <tr>\n",
       "        <td>Arthur A Libby Elementary School</td>\n",
       "        <td>Weak</td>\n",
       "    </tr>\n",
       "    <tr>\n",
       "        <td>Arthur Dixon Elementary School</td>\n",
       "        <td>Weak</td>\n",
       "    </tr>\n",
       "    <tr>\n",
       "        <td>Arthur E Canty Elementary School</td>\n",
       "        <td>Weak</td>\n",
       "    </tr>\n",
       "    <tr>\n",
       "        <td>Arthur R Ashe Elementary School</td>\n",
       "        <td>Weak</td>\n",
       "    </tr>\n",
       "    <tr>\n",
       "        <td>Asa Philip Randolph Elementary School</td>\n",
       "        <td>Weak</td>\n",
       "    </tr>\n",
       "    <tr>\n",
       "        <td>Ashburn Community Elementary School</td>\n",
       "        <td>Weak</td>\n",
       "    </tr>\n",
       "    <tr>\n",
       "        <td>Augustus H Burley Elementary School</td>\n",
       "        <td>Weak</td>\n",
       "    </tr>\n",
       "    <tr>\n",
       "        <td>Austin Business and Entrepreneurship Academy High School</td>\n",
       "        <td>Weak</td>\n",
       "    </tr>\n",
       "    <tr>\n",
       "        <td>Austin O Sexton Elementary School</td>\n",
       "        <td>Weak</td>\n",
       "    </tr>\n",
       "    <tr>\n",
       "        <td>Austin Polytechnical Academy High School</td>\n",
       "        <td>Weak</td>\n",
       "    </tr>\n",
       "    <tr>\n",
       "        <td>Avalon Park Elementary School</td>\n",
       "        <td>Weak</td>\n",
       "    </tr>\n",
       "    <tr>\n",
       "        <td>Barbara Vick Early Childhood &amp; Family Center</td>\n",
       "        <td>Weak</td>\n",
       "    </tr>\n",
       "    <tr>\n",
       "        <td>Belmont-Cragin Elementary School</td>\n",
       "        <td>Weak</td>\n",
       "    </tr>\n",
       "    <tr>\n",
       "        <td>Benito Juarez Community Academy High School</td>\n",
       "        <td>Weak</td>\n",
       "    </tr>\n",
       "    <tr>\n",
       "        <td>Benjamin Banneker Elementary School</td>\n",
       "        <td>Weak</td>\n",
       "    </tr>\n",
       "    <tr>\n",
       "        <td>Benjamin E Mays Elementary Academy</td>\n",
       "        <td>Weak</td>\n",
       "    </tr>\n",
       "    <tr>\n",
       "        <td>Bernhard Moos Elementary School</td>\n",
       "        <td>Weak</td>\n",
       "    </tr>\n",
       "</table>"
      ],
      "text/plain": [
       "[('Abraham Lincoln Elementary School', 'Weak'),\n",
       " ('Adam Clayton Powell Paideia Community Academy Elementary School', 'Weak'),\n",
       " ('Adlai E Stevenson Elementary School', 'Weak'),\n",
       " ('Agustin Lara Elementary Academy', 'Weak'),\n",
       " ('Air Force Academy High School', 'Weak'),\n",
       " ('Albany Park Multicultural Academy', 'Weak'),\n",
       " ('Albert G Lane Technical High School', 'Weak'),\n",
       " ('Albert R Sabin Elementary Magnet School', 'Weak'),\n",
       " ('Alcott High School for the Humanities', 'Weak'),\n",
       " ('Alessandro Volta Elementary School', 'Weak'),\n",
       " ('Alexander Graham Bell Elementary School', 'Weak'),\n",
       " ('Alexander Graham Elementary School', 'Weak'),\n",
       " ('Alexander Hamilton Elementary School', 'Weak'),\n",
       " ('Alexander von Humboldt Elementary School', 'Weak'),\n",
       " ('Alex Haley Elementary Academy', 'Weak'),\n",
       " ('Alfred David Kohn Elementary School', 'Weak'),\n",
       " ('Alfred Nobel Elementary School', 'Weak'),\n",
       " ('Alice L Barnard Computer Math & Science Center Elementary School', 'Weak'),\n",
       " ('Al Raby High School', 'Weak'),\n",
       " ('Ambrose Plamondon Elementary School', 'Weak'),\n",
       " ('Amelia Earhart Options for Knowledge Elementary School', 'Weak'),\n",
       " ('Ames Middle School', 'Weak'),\n",
       " ('Amos Alonzo Stagg Elementary School', 'Weak'),\n",
       " ('Ana Roque de Duprey Elementary School', 'Weak'),\n",
       " ('Andrew Carnegie Elementary School', 'Weak'),\n",
       " ('Andrew Jackson Elementary Language Academy', 'Weak'),\n",
       " ('Anna R. Langford Community Academy', 'Weak'),\n",
       " ('Annie Keller Elementary Gifted Magnet School', 'Weak'),\n",
       " ('A.N. Pritzker School', 'Weak'),\n",
       " ('Anthony Overton Elementary School', 'Weak'),\n",
       " ('Ariel Elementary Community Academy', 'Weak'),\n",
       " ('Arna Wendell Bontemps Elementary School', 'Weak'),\n",
       " ('Arnold Mireles Elementary Academy', 'Weak'),\n",
       " ('Arthur A Libby Elementary School', 'Weak'),\n",
       " ('Arthur Dixon Elementary School', 'Weak'),\n",
       " ('Arthur E Canty Elementary School', 'Weak'),\n",
       " ('Arthur R Ashe Elementary School', 'Weak'),\n",
       " ('Asa Philip Randolph Elementary School', 'Weak'),\n",
       " ('Ashburn Community Elementary School', 'Weak'),\n",
       " ('Augustus H Burley Elementary School', 'Weak'),\n",
       " ('Austin Business and Entrepreneurship Academy High School', 'Weak'),\n",
       " ('Austin O Sexton Elementary School', 'Weak'),\n",
       " ('Austin Polytechnical Academy High School', 'Weak'),\n",
       " ('Avalon Park Elementary School', 'Weak'),\n",
       " ('Barbara Vick Early Childhood & Family Center', 'Weak'),\n",
       " ('Belmont-Cragin Elementary School', 'Weak'),\n",
       " ('Benito Juarez Community Academy High School', 'Weak'),\n",
       " ('Benjamin Banneker Elementary School', 'Weak'),\n",
       " ('Benjamin E Mays Elementary Academy', 'Weak'),\n",
       " ('Bernhard Moos Elementary School', 'Weak')]"
      ]
     },
     "execution_count": 56,
     "metadata": {},
     "output_type": "execute_result"
    }
   ],
   "source": [
    "%%sql\n",
    "\n",
    "SELECT School_Name, Leaders_Rating \n",
    "FROM NEW_CHICAGO_SCHOOL_VIEW\n",
    "LIMIT 50"
   ]
  },
  {
   "cell_type": "markdown",
   "metadata": {},
   "source": [
    "# Exercise 3: Creating a Stored Procedure"
   ]
  },
  {
   "attachments": {},
   "cell_type": "markdown",
   "metadata": {},
   "source": [
    "The icon fields are calculated based on the value in the corresponding score field. You need to make sure that when a score field is updated, the icon field is updated too. To do this, you will write a stored procedure that receives the school id and a leaders score as input parameters, calculates the icon setting and updates the fields appropriately."
   ]
  },
  {
   "cell_type": "markdown",
   "metadata": {},
   "source": [
    "Question 1\n",
    "Write the structure of a query to create or replace a stored procedure called UPDATE_LEADERS_SCORE that takes a in_School_ID parameter as an integer and a in_Leader_Score parameter as an integer. Don’t forget to use the #SET TERMINATOR statement to use the @ for the CREATE statement terminator."
   ]
  },
  {
   "cell_type": "code",
   "execution_count": null,
   "metadata": {},
   "outputs": [],
   "source": [
    "%%sql\n",
    "\n",
    "CREATE OR REPLACE PROCEDURE UPDATE_LEADERS_SCORE (IN in_School_ID INTEGER(1000000), IN in_Leader_Score INTEGER(100)) -- Name of this stored procedure routine\n",
    "LANGUAGE SQL                                                -- Language used in this routine \n",
    "MODIFIES SQL DATA                                           -- This routine will only write/modify data in the table\n",
    "@"
   ]
  },
  {
   "attachments": {},
   "cell_type": "markdown",
   "metadata": {},
   "source": [
    "Question 2\n",
    "- Inside your stored procedure, write a SQL statement \n",
    "- to update the Leaders_Score field in the CHICAGO_PUBLIC_SCHOOLS table \n",
    "- for the school identified by in_School_ID to the value in the in_Leader_Score parameter."
   ]
  },
  {
   "cell_type": "code",
   "execution_count": null,
   "metadata": {},
   "outputs": [],
   "source": [
    "%%sql\n",
    "\n",
    "CREATE OR REPLACE PROCEDURE UPDATE_LEADERS_SCORE (IN in_School_ID INTEGER(1000000), IN in_Leader_Score INTEGER(100)) -- Name of this stored procedure routine\n",
    "LANGUAGE SQL                                                -- Language used in this routine \n",
    "MODIFIES SQL DATA                                           -- This routine will only write/modify data in the table\n",
    "\n",
    "BEGIN\n",
    "    UPDATE \"CHICAGO_PUBLIC_SCHOOLS\"\n",
    "    SET \"LEADERS_SCORE\" = in_Leader_Score\n",
    "    WHERE \"School_ID\" = in_School_ID\n",
    "END \n",
    "@"
   ]
  },
  {
   "cell_type": "markdown",
   "metadata": {},
   "source": [
    "Question 3\n",
    "- Inside your stored procedure, write a SQL IF statement to update the Leaders_Icon field \n",
    "- in the CHICAGO_PUBLIC_SCHOOLS table for the school identified by in_School_ID using the following information"
   ]
  },
  {
   "attachments": {
    "image.png": {
     "image/png": "[encoded data removed]"
    }
   },
   "cell_type": "markdown",
   "metadata": {},
   "source": [
    "![image.png](attachment:image.png)"
   ]
  },
  {
   "cell_type": "code",
   "execution_count": null,
   "metadata": {},
   "outputs": [],
   "source": [
    "%%sql\n",
    "\n",
    "CREATE OR REPLACE PROCEDURE UPDATE_LEADERS_SCORE (IN in_School_ID INTEGER(1000000), IN in_Leader_Score INTEGER(100)) -- Name of this stored procedure routine\n",
    "LANGUAGE SQL                                                -- Language used in this routine \n",
    "MODIFIES SQL DATA                                           -- This routine will only write/modify data in the table\n",
    "\n",
    "BEGIN\n",
    "    UPDATE \"CHICAGO_PUBLIC_SCHOOLS\"\n",
    "    SET \"LEADERS_SCORE\" = in_Leader_Score\n",
    "    WHERE \"School_ID\" = in_School_ID\n",
    "    \n",
    "    IF in_Leader_Score >= 80 and in_Leader_Score <= 99 THEN\n",
    "        UPDATE \"CHICAGO_PUBLIC_SCHOOLS\"\n",
    "        SET \"Leaders_Icon\" = 'Very Strong'\n",
    "        WHERE \"School_ID\" = in_School_ID\n",
    "\n",
    "    ELSEIF in_Leader_Score >= 60 and in_Leader_Score <= 79 THEN\n",
    "        UPDATE \"CHICAGO_PUBLIC_SCHOOLS\"\n",
    "        SET \"Leaders_Icon\" = 'Strong'\n",
    "        WHERE \"School_ID\" = in_School_ID\n",
    "    \n",
    "    ELSEIF in_Leader_Score >= 40 and in_Leader_Score <= 59 THEN\n",
    "        UPDATE \"CHICAGO_PUBLIC_SCHOOLS\"\n",
    "        SET \"Leaders_Icon\" = 'Average'\n",
    "        WHERE \"School_ID\" = in_School_ID\n",
    "    \n",
    "    ELSEIF in_Leader_Score >= 20 and in_Leader_Score <= 39 THEN\n",
    "        UPDATE \"CHICAGO_PUBLIC_SCHOOLS\"\n",
    "        SET \"Leaders_Icon\" = 'Weak'\n",
    "        WHERE \"School_ID\" = in_School_ID\n",
    "    \n",
    "    ELSE\n",
    "        UPDATE \"CHICAGO_PUBLIC_SCHOOLS\"\n",
    "        SET \"Leaders_Icon\" = 'Very Weak'\n",
    "        WHERE \"School_ID\" = in_School_ID\n",
    "END \n",
    "@"
   ]
  },
  {
   "attachments": {},
   "cell_type": "markdown",
   "metadata": {},
   "source": [
    "Question 4\n",
    "Run your code to create the stored procedure.\n",
    "Take a screenshot showing the SQL query and its results."
   ]
  },
  {
   "cell_type": "code",
   "execution_count": 51,
   "metadata": {},
   "outputs": [
    {
     "name": "stdout",
     "output_type": "stream",
     "text": [
      " * ibm_db_sa://jdq93423:***@ea286ace-86c7-4d5b-8580-3fbfa46b1c66.bs2io90l08kqb1od8lcg.databases.appdomain.cloud:31505/BLUDB\n",
      "Done.\n"
     ]
    },
    {
     "data": {
      "text/plain": [
       "[]"
      ]
     },
     "execution_count": 51,
     "metadata": {},
     "output_type": "execute_result"
    }
   ],
   "source": [
    "%%sql\n",
    "CREATE OR REPLACE PROCEDURE UPDATE_LEADERS_SCORE (\n",
    "    IN in_School_ID  INTEGER, IN in_Leader_Score INTEGER) \n",
    "LANGUAGE SQL \n",
    "MODIFIES SQL DATA\n",
    "\n",
    "    BEGIN\n",
    "        UPDATE \"CHICAGO_PUBLIC_SCHOOLS\"\n",
    "        SET Leaders_Score = in_Leader_Score\n",
    "        WHERE School_ID = in_School_ID;\n",
    "\n",
    "        IF in_Leader_Score >=  80 THEN \n",
    "            UPDATE \"CHICAGO_PUBLIC_SCHOOLS\"\n",
    "            SET Leaders_Icon = 'Very_Strong'\n",
    "            WHERE School_ID = in_School_ID;\n",
    "\n",
    "        ELSEIF in_Leader_Score>= 60 and in_Leader_Score <= 79  THEN\n",
    "            UPDATE \"CHICAGO_PUBLIC_SCHOOLS\"\n",
    "            SET Leaders_Icon = 'Strong'\n",
    "            WHERE School_ID = in_School_ID;\n",
    "\n",
    "        ELSEIF in_Leader_Score >=  40 and in_Leader_Score <= 59  THEN\n",
    "            UPDATE \"CHICAGO_PUBLIC_SCHOOLS\"\n",
    "            SET Leaders_Icon = 'Average'\n",
    "            WHERE School_ID = in_School_ID;\n",
    "\n",
    "        ELSEIF in_Leader_Score >=  20 and in_Leader_Score <= 39  THEN\n",
    "            UPDATE \"CHICAGO_PUBLIC_SCHOOLS\"\n",
    "            SET Leaders_Icon = 'Weak'\n",
    "            WHERE School_ID = in_School_ID;\n",
    "\n",
    "        ELSE\n",
    "            UPDATE \"CHICAGO_PUBLIC_SCHOOLS\"\n",
    "            SET Leaders_Icon = 'Very Weak'\n",
    "            WHERE School_ID = in_School_ID;\n",
    "        END IF;\n",
    "END"
   ]
  },
  {
   "cell_type": "markdown",
   "metadata": {},
   "source": [
    "Write a query to call the stored procedure, passing a valid school ID and a leader score of 50, to check that the procedure works as expected."
   ]
  },
  {
   "cell_type": "code",
   "execution_count": 48,
   "metadata": {},
   "outputs": [
    {
     "name": "stdout",
     "output_type": "stream",
     "text": [
      " * ibm_db_sa://jdq93423:***@ea286ace-86c7-4d5b-8580-3fbfa46b1c66.bs2io90l08kqb1od8lcg.databases.appdomain.cloud:31505/BLUDB\n",
      "Done.\n"
     ]
    },
    {
     "data": {
      "text/plain": [
       "[]"
      ]
     },
     "execution_count": 48,
     "metadata": {},
     "output_type": "execute_result"
    }
   ],
   "source": [
    "%%sql\n",
    "\n",
    "CALL UPDATE_LEADERS_SCORE(1,50)"
   ]
  },
  {
   "cell_type": "markdown",
   "metadata": {},
   "source": [
    "# Exercise 4: Using Transactions"
   ]
  },
  {
   "cell_type": "markdown",
   "metadata": {},
   "source": [
    "Question 1\n",
    "Update your stored procedure definition. Add a generic ELSE clause to the IF statement that rolls back the current work if the score did not fit any of the preceding categories."
   ]
  },
  {
   "cell_type": "code",
   "execution_count": 46,
   "metadata": {},
   "outputs": [
    {
     "name": "stdout",
     "output_type": "stream",
     "text": [
      " * ibm_db_sa://jdq93423:***@ea286ace-86c7-4d5b-8580-3fbfa46b1c66.bs2io90l08kqb1od8lcg.databases.appdomain.cloud:31505/BLUDB\n",
      "Done.\n"
     ]
    },
    {
     "data": {
      "text/plain": [
       "[]"
      ]
     },
     "execution_count": 46,
     "metadata": {},
     "output_type": "execute_result"
    }
   ],
   "source": [
    "%%sql\n",
    "--#SET TERMINATOR @\n",
    "CREATE OR REPLACE PROCEDURE UPDATE_LEADERS_SCORE (\n",
    "    IN in_School_ID  INTEGER, IN in_Leader_Score INTEGER) \n",
    "LANGUAGE SQL \n",
    "MODIFIES SQL DATA\n",
    "  BEGIN\n",
    "    UPDATE \"CHICAGO_PUBLIC_SCHOOLS\"\n",
    "    SET Leaders_Score = in_Leader_Score\n",
    "    WHERE School_ID = in_School_ID;\n",
    "    IF in_Leader_Score >=  80 THEN \n",
    "        UPDATE \"CHICAGO_PUBLIC_SCHOOLS\"\n",
    "        SET Leaders_Icon = 'Very_Strong'\n",
    "        WHERE School_ID = in_School_ID;\n",
    "    ELSEIF in_Leader_Score>= 60 and in_Leader_Score <= 79  THEN\n",
    "        UPDATE \"CHICAGO_PUBLIC_SCHOOLS\"\n",
    "        SET Leaders_Icon = 'Strong'\n",
    "        WHERE School_ID = in_School_ID;\n",
    "    ELSEIF in_Leader_Score >=  40 and in_Leader_Score <= 59  THEN\n",
    "        UPDATE \"CHICAGO_PUBLIC_SCHOOLS\"\n",
    "        SET Leaders_Icon = 'Average'\n",
    "        WHERE School_ID = in_School_ID;\n",
    "    ELSEIF in_Leader_Score >=  20 and in_Leader_Score <= 39  THEN\n",
    "        UPDATE \"CHICAGO_PUBLIC_SCHOOLS\"\n",
    "        SET Leaders_Icon = 'Weak'\n",
    "        WHERE School_ID = in_School_ID;\n",
    "    ELSEIF in_Leader_Score >= 0 and in_Leader_Score <= 19 THEN\n",
    "        UPDATE \"CHICAGO_PUBLIC_SCHOOLS\"\n",
    "        SET Leaders_Icon = 'Very Weak'\n",
    "        WHERE School_ID = in_School_ID;   \n",
    "    ELSE\n",
    "        ROLLBACK WORK;\n",
    "    END IF;\n",
    "  END\n",
    "@"
   ]
  },
  {
   "cell_type": "markdown",
   "metadata": {},
   "source": [
    "Question 2\n",
    "Update your stored procedure definition again. Add a statement to commit the current unit of work at the end of the procedure."
   ]
  },
  {
   "cell_type": "code",
   "execution_count": 47,
   "metadata": {},
   "outputs": [
    {
     "name": "stdout",
     "output_type": "stream",
     "text": [
      " * ibm_db_sa://jdq93423:***@ea286ace-86c7-4d5b-8580-3fbfa46b1c66.bs2io90l08kqb1od8lcg.databases.appdomain.cloud:31505/BLUDB\n",
      "Done.\n"
     ]
    },
    {
     "data": {
      "text/plain": [
       "[]"
      ]
     },
     "execution_count": 47,
     "metadata": {},
     "output_type": "execute_result"
    }
   ],
   "source": [
    "%%sql\n",
    "--#SET TERMINATOR @\n",
    "CREATE OR REPLACE PROCEDURE UPDATE_LEADERS_SCORE (\n",
    "    IN in_School_ID  INTEGER, IN in_Leader_Score INTEGER) \n",
    "LANGUAGE SQL \n",
    "MODIFIES SQL DATA\n",
    "  BEGIN\n",
    "    UPDATE \"CHICAGO_PUBLIC_SCHOOLS\"\n",
    "    SET Leaders_Score = in_Leader_Score\n",
    "    WHERE School_ID = in_School_ID;\n",
    "    IF in_Leader_Score >=  80 THEN \n",
    "        UPDATE \"CHICAGO_PUBLIC_SCHOOLS\"\n",
    "        SET Leaders_Icon = 'Very_Strong'\n",
    "        WHERE School_ID = in_School_ID;\n",
    "    ELSEIF in_Leader_Score>= 60 and in_Leader_Score <= 79  THEN\n",
    "        UPDATE \"CHICAGO_PUBLIC_SCHOOLS\"\n",
    "        SET Leaders_Icon = 'Strong'\n",
    "        WHERE School_ID = in_School_ID;\n",
    "    ELSEIF in_Leader_Score >=  40 and in_Leader_Score <= 59  THEN\n",
    "        UPDATE \"CHICAGO_PUBLIC_SCHOOLS\"\n",
    "        SET Leaders_Icon = 'Average'\n",
    "        WHERE School_ID = in_School_ID;\n",
    "    ELSEIF in_Leader_Score >=  20 and in_Leader_Score <= 39  THEN\n",
    "        UPDATE \"CHICAGO_PUBLIC_SCHOOLS\"\n",
    "        SET Leaders_Icon = 'Weak'\n",
    "        WHERE School_ID = in_School_ID;\n",
    "    ELSEIF in_Leader_Score >= 0 and in_Leader_Score <= 19 THEN\n",
    "        UPDATE \"CHICAGO_PUBLIC_SCHOOLS\"\n",
    "        SET Leaders_Icon = 'Very Weak'\n",
    "        WHERE School_ID = in_School_ID;\n",
    "    ELSEIF in_Leader_Score <= 0 and in_Leader_Score >= 100 THEN\n",
    "    \tROLLBACK WORK;        \n",
    "    ELSE\n",
    "        COMMIT WORK;\n",
    "    END IF;\n",
    "  END\n",
    "@"
   ]
  }
 ],
 "metadata": {
  "kernelspec": {
   "display_name": "Python 3",
   "language": "python",
   "name": "python3"
  },
  "language_info": {
   "codemirror_mode": {
    "name": "ipython",
    "version": 3
   },
   "file_extension": ".py",
   "mimetype": "text/x-python",
   "name": "python",
   "nbconvert_exporter": "python",
   "pygments_lexer": "ipython3",
   "version": "3.11.0"
  },
  "orig_nbformat": 4,
  "vscode": {
   "interpreter": {
    "hash": "173ede44d3b75e09af6dc5d8ea1e2d0a0d849a2b6e7d12b88762e08bdf0dd200"
   }
  }
 },
 "nbformat": 4,
 "nbformat_minor": 2
}
